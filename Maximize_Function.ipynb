{
 "cells": [
  {
   "cell_type": "markdown",
   "metadata": {},
   "source": [
    "# Maximizing a Function using Scipy\n",
    "\n",
    "This Python Program will show how to use scipy and execute to maximize a function and find accurate values."
   ]
  },
  {
   "cell_type": "markdown",
   "metadata": {},
   "source": [
    "## Problem Statement "
   ]
  },
  {
   "cell_type": "markdown",
   "metadata": {},
   "source": [
    "<img src=\"Problem.png\">"
   ]
  },
  {
   "cell_type": "markdown",
   "metadata": {},
   "source": [
    "## Equations Formed "
   ]
  },
  {
   "cell_type": "markdown",
   "metadata": {},
   "source": [
    "<img src=\"equations.png\">"
   ]
  },
  {
   "cell_type": "markdown",
   "metadata": {},
   "source": [
    "## Program "
   ]
  },
  {
   "cell_type": "code",
   "execution_count": 8,
   "metadata": {},
   "outputs": [
    {
     "data": {
      "text/plain": [
       "'\\nThis Code is developed by Shamsheer Verma\\nLast Edited - 2/08/2018\\n'"
      ]
     },
     "execution_count": 8,
     "metadata": {},
     "output_type": "execute_result"
    }
   ],
   "source": [
    "\"\"\"\n",
    "This Code is developed by Shamsheer Verma\n",
    "Last Edited - 2/08/2018\n",
    "\"\"\""
   ]
  },
  {
   "cell_type": "code",
   "execution_count": 1,
   "metadata": {},
   "outputs": [],
   "source": [
    "from scipy.optimize import minimize # Importing Library "
   ]
  },
  {
   "cell_type": "code",
   "execution_count": 2,
   "metadata": {},
   "outputs": [],
   "source": [
    "def profits(x, sign=-1.0): # Defining a function called profits\n",
    "    x1 = x[0] # Here x1 and x[0] is CC7\n",
    "    x2 = x[1] # Here x2 and x[1] is CC8\n",
    "    return sign*(8000*x1 + 12000*x2) # It is important to put sign as -1 because we are using minimize \n",
    "                                     # function of scipy to maximize this function\n",
    "\n",
    "\"\"\"\n",
    "In constraints it is important to note that I have put negative sign in return function \n",
    "for some constraints. This is because when there is an inequality equation the constraint \n",
    "tends to automatically take >= sign instead of <=. To make sure it works properly with labor\n",
    "and budget inequality equation, I have put the negative sign.\n",
    "\"\"\"\n",
    "\n",
    "def constraint1(x):\n",
    "    return (-3*x[0] - 5*x[1]+2000) # This is our first constraint for labor work. \n",
    "\n",
    "def constraint2(x):\n",
    "    return (-10*x[0] - 12*x[1]+8000) # This is our second constraint for budget.\n",
    "\n",
    "def constraint3(x):\n",
    "    return (x[0]-100) # Third constraint for minimum number of CC7\n",
    "\n",
    "def constraint4(x):\n",
    "    return (x[1]-200) # Fourth constraint for minimum number of CC8"
   ]
  },
  {
   "cell_type": "code",
   "execution_count": 3,
   "metadata": {},
   "outputs": [],
   "source": [
    "x0 = [100,200] # Initial Guess Values"
   ]
  },
  {
   "cell_type": "code",
   "execution_count": 4,
   "metadata": {},
   "outputs": [],
   "source": [
    "# Making a dictionary of constraints and storing the result in a list.\n",
    "con1 = {'type':'ineq', 'fun': constraint1} \n",
    "con2 = {'type':'ineq', 'fun': constraint2}\n",
    "con3 = {'type':'ineq', 'fun': constraint3}\n",
    "con4 = {'type':'ineq', 'fun': constraint4}\n",
    "cons = [con1, con2, con3, con4]"
   ]
  },
  {
   "cell_type": "code",
   "execution_count": 5,
   "metadata": {},
   "outputs": [
    {
     "name": "stdout",
     "output_type": "stream",
     "text": [
      "     fun: -5066673.710638682\n",
      "     jac: array([ -8000., -12000.])\n",
      " message: 'Positive directional derivative for linesearch'\n",
      "    nfev: 54\n",
      "     nit: 10\n",
      "    njev: 6\n",
      "  status: 8\n",
      " success: False\n",
      "       x: array([ 333.3339285 ,  200.00019022])\n"
     ]
    }
   ],
   "source": [
    "output = minimize(profits, x0, method='SLSQP', constraints=cons) # calling the minimize function form scipy\n",
    "print (output) # Printing the solution function"
   ]
  },
  {
   "cell_type": "code",
   "execution_count": 7,
   "metadata": {},
   "outputs": [
    {
     "name": "stdout",
     "output_type": "stream",
     "text": [
      "[ 333.3339285   200.00019022]\n"
     ]
    }
   ],
   "source": [
    "print (output.x) # These are the values for CC7 and CC8. Here 333 are CC7 and 200 are CC8"
   ]
  },
  {
   "cell_type": "markdown",
   "metadata": {},
   "source": [
    "# Finish "
   ]
  }
 ],
 "metadata": {
  "kernelspec": {
   "display_name": "Python 3",
   "language": "python",
   "name": "python3"
  },
  "language_info": {
   "codemirror_mode": {
    "name": "ipython",
    "version": 3
   },
   "file_extension": ".py",
   "mimetype": "text/x-python",
   "name": "python",
   "nbconvert_exporter": "python",
   "pygments_lexer": "ipython3",
   "version": "3.6.4"
  }
 },
 "nbformat": 4,
 "nbformat_minor": 2
}
